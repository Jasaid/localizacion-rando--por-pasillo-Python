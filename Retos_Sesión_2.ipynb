{
  "nbformat": 4,
  "nbformat_minor": 0,
  "metadata": {
    "colab": {
      "provenance": []
    },
    "kernelspec": {
      "name": "python3",
      "display_name": "Python 3"
    },
    "language_info": {
      "name": "python"
    }
  },
  "cells": [
    {
      "cell_type": "markdown",
      "source": [
        "Reto 1.\n",
        "\n",
        "🗣️ Supongamos que hay 10 pasillos en total en una tienda de abarrotes y el artículo lo dejaron en uno de esos pasillos de manera aleatoria.\n",
        "\n",
        "⌨️ Define una variable para almacenar el número total de pasillos. Luego, emplea la funcionalidad de randint() de la clase random para seleccionar un pasillo al azar y guarda este número en otra variable.\n",
        "\n",
        "🔄 Utiliza un ciclo for simulando que vas en busca de ese articulo pasillo tras pasillo hasta llegar al ultimo.\n",
        "\n",
        "❓ Dentro del ciclo, utiliza una sentencia if para verificar si el pasillo actual es donde se encuentra el artículo:\n",
        "\n",
        "Si el pasillo es el correcto, imprime un mensaje indicando que el artículo ha sido encontrado luego rompe el ciclo.\n",
        "Si el pasillo no es el correcto, imprime un mensaje indicando que el artículo no está en ese pasillo.\n",
        "🧮 Al final del ciclo, si no se encontró el artículo, imprime un mensaje indicando que el artículo no se encontró en ninguno de los pasillos."
      ],
      "metadata": {
        "id": "TSyQm5HBqGW_"
      }
    },
    {
      "cell_type": "code",
      "execution_count": 1,
      "metadata": {
        "id": "whVPMVtVvL5g",
        "colab": {
          "base_uri": "https://localhost:8080/"
        },
        "outputId": "a543ce3a-534d-4a3d-ea77-587feae5fe61"
      },
      "outputs": [
        {
          "output_type": "stream",
          "name": "stdout",
          "text": [
            "Buscando en el pasillo 1...\n",
            "¡El artículo ha sido encontrado en el pasillo 1!\n"
          ]
        }
      ],
      "source": [
        "import random  # Importamos la librería random para usar randint()\n",
        "\n",
        "# Almacenar el total de pasillos\n",
        "total_pasillos = 10\n",
        "\n",
        "# Seleccionar un pasillo al azar donde está el artículo\n",
        "pasillo_articulo = random.randint(1, total_pasillos)\n",
        "\n",
        "# Utilizar ciclo \"for\" para simular búsqueda del artículo pasillo por pasillo\n",
        "for pasillo_actual in range(1, total_pasillos + 1):\n",
        "    print(f\"Buscando en el pasillo {pasillo_actual}...\")\n",
        "\n",
        "    # Verificar si el pasillo actual es donde está el artículo\n",
        "    if pasillo_actual == pasillo_articulo:\n",
        "        print(f\"¡El artículo ha sido encontrado en el pasillo {pasillo_actual}!\")\n",
        "        break  # Salir del ciclo si se encuentra el artículo\n",
        "    else:\n",
        "        print(\"El artículo no está en este pasillo.\")\n",
        "\n",
        "# Si el ciclo termina sin encontrar el artículo\n",
        "else:\n",
        "    print(\"El artículo no se encontró en ninguno de los pasillos.\")"
      ]
    },
    {
      "cell_type": "markdown",
      "source": [],
      "metadata": {
        "id": "L7ZGTgSfq4tn"
      }
    },
    {
      "cell_type": "markdown",
      "source": [
        "Reto 2.\n",
        "\n",
        "🗣️ Inicializa una variable pedido_total, que servirá para acumular el costo total del pedido.\n",
        "\n",
        "⌨️ Implementa un bucle while que muestre un menú de opciones de comida y permita al usuario hacer un pedido. Las opciones son:\n",
        "\n",
        "Pizza - $10\n",
        "Hamburguesa - $8\n",
        "Ensalada - $7\n",
        "Finalizar pedido\n",
        "🔄 Dentro del bucle, solicita al usuario que ingrese el número de la opción deseada y realiza las siguientes acciones según la elección:\n",
        "\n",
        "Si el usuario selecciona '0', muestra el total del pedido, agradece y termina el bucle.\n",
        "Utiliza una estructura match para asignar el precio correcto según la opción elegida y añadirlo al pedido_total.\n",
        "❓ Si el usuario introduce una opción no válida, muestra un mensaje de error y permite intentar nuevamente sin salir del bucle.\n",
        "\n",
        "🧮 Después de añadir cada producto al pedido, muestra un mensaje indicando el producto añadido y el total acumulado. Luego, pregunta al usuario si desea continuar añadiendo productos. Si responde \"no\", muestra el total del pedido, agradece y finaliza el bucle.\n",
        "\n",
        "📦 Al final del bucle, muestra el total del pedido y un mensaje de agradecimiento, algo similar a esto:\n",
        "\n",
        "   Bienvenido al sistema de pedido a domicilio.\n",
        "   --------------------\n",
        "   1. Pizza - $10\n",
        "   2. Hamburguesa - $8\n",
        "   3. Ensalada - $7\n",
        "   0. Finalizar pedido\n",
        "   --------------------\n",
        "\n",
        "   Introduce el número de la opción que deseas: 1\n",
        "   Añadiste Pizza a tu pedido. Total actual: $10\n",
        "   ¿Deseas seguir añadiendo productos? (sí/no): no\n",
        "   --------------------------------------------------\n",
        "\n",
        "   El total de su pedido es: $10\n",
        "   Gracias por su pedido. ¡Buen provecho!\n"
      ],
      "metadata": {
        "id": "jX8aHNO5rpkh"
      }
    },
    {
      "cell_type": "code",
      "source": [
        "# Inicializar variable pedido total para acumular el costo total del pedido\n",
        "pedido_total = 0\n",
        "\n",
        "# Mostrar mensaje de bienvenida\n",
        "print(\"Bienvenido al sistema de pedido a domicilio.\")\n",
        "print(\"--------------------\")\n",
        "\n",
        "# Bucle while para mostrar el menú y procesar el pedido\n",
        "while True:\n",
        "    # Mostrar el menú de opciones\n",
        "    print(\"1. Pizza - $10\")\n",
        "    print(\"2. Hamburguesa - $8\")\n",
        "    print(\"3. Ensalada - $7\")\n",
        "    print(\"0. Finalizar pedido\")\n",
        "    print(\"--------------------\")\n",
        "\n",
        "    # Solicitar al usuario que ingrese una opción\n",
        "    opcion = input(\"Introduce el número de la opción que deseas: \")\n",
        "\n",
        "    # Usar match para asignar el precio correcto según la opción elegida\n",
        "    match opcion:\n",
        "        case '1':\n",
        "            precio = 10\n",
        "            producto = \"Pizza\"\n",
        "        case '2':\n",
        "            precio = 8\n",
        "            producto = \"Hamburguesa\"\n",
        "        case '3':\n",
        "            precio = 7\n",
        "            producto = \"Ensalada\"\n",
        "        case '0':\n",
        "            # Finalizar el pedido\n",
        "            print(f\"El total de su pedido es: ${pedido_total}\")\n",
        "            print(\"Gracias por su pedido. ¡Buen provecho!\")\n",
        "            break\n",
        "        case _:\n",
        "            # Opción no válida\n",
        "            print(\"Opción no válida. Intenta nuevamente.\")\n",
        "            continue  # Volver al inicio del bucle\n",
        "\n",
        "    # Añadir el precio al total del pedido\n",
        "    pedido_total += precio\n",
        "\n",
        "    # Mostrar el producto añadido y el total acumulado\n",
        "    print(f\"Añadiste {producto} a tu pedido. Total actual: ${pedido_total}\")\n",
        "\n",
        "    # Preguntar al usuario si desea continuar añadiendo productos\n",
        "    continuar = input(\"¿Deseas seguir añadiendo productos? (sí/no): \").lower()\n",
        "    if continuar != \"sí\" and continuar != \"si\":\n",
        "        # Finalizar el pedido si el usuario no desea continuar\n",
        "        print(f\"El total de su pedido es: ${pedido_total}\")\n",
        "        print(\"Gracias por su pedido. ¡Buen provecho!\")\n",
        "        break"
      ],
      "metadata": {
        "colab": {
          "base_uri": "https://localhost:8080/"
        },
        "id": "36sT4GTd10BJ",
        "outputId": "caa65656-bb64-48cb-b7c0-8dde7050c7ae"
      },
      "execution_count": 2,
      "outputs": [
        {
          "output_type": "stream",
          "name": "stdout",
          "text": [
            "Bienvenido al sistema de pedido a domicilio.\n",
            "--------------------\n",
            "1. Pizza - $10\n",
            "2. Hamburguesa - $8\n",
            "3. Ensalada - $7\n",
            "0. Finalizar pedido\n",
            "--------------------\n",
            "Introduce el número de la opción que deseas: 1\n",
            "Añadiste Pizza a tu pedido. Total actual: $10\n",
            "¿Deseas seguir añadiendo productos? (sí/no): sí\n",
            "1. Pizza - $10\n",
            "2. Hamburguesa - $8\n",
            "3. Ensalada - $7\n",
            "0. Finalizar pedido\n",
            "--------------------\n",
            "Introduce el número de la opción que deseas: 8\n",
            "Opción no válida. Intenta nuevamente.\n",
            "1. Pizza - $10\n",
            "2. Hamburguesa - $8\n",
            "3. Ensalada - $7\n",
            "0. Finalizar pedido\n",
            "--------------------\n",
            "Introduce el número de la opción que deseas: 2\n",
            "Añadiste Hamburguesa a tu pedido. Total actual: $18\n",
            "¿Deseas seguir añadiendo productos? (sí/no): no\n",
            "El total de su pedido es: $18\n",
            "Gracias por su pedido. ¡Buen provecho!\n"
          ]
        }
      ]
    }
  ]
}